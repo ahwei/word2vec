{
 "cells": [
  {
   "cell_type": "code",
   "execution_count": 1,
   "metadata": {
    "collapsed": false
   },
   "outputs": [
    {
     "name": "stderr",
     "output_type": "stream",
     "text": [
      "C:\\Program Files\\Anaconda2\\lib\\site-packages\\gensim\\utils.py:840: UserWarning: detected Windows; aliasing chunkize to chunkize_serial\n",
      "  warnings.warn(\"detected Windows; aliasing chunkize to chunkize_serial\")\n",
      "C:\\Program Files\\Anaconda2\\lib\\site-packages\\gensim\\utils.py:1015: UserWarning: Pattern library is not installed, lemmatization won't be available.\n",
      "  warnings.warn(\"Pattern library is not installed, lemmatization won't be available.\")\n"
     ]
    }
   ],
   "source": [
    "#載入gensim\n",
    "import gensim      "
   ]
  },
  {
   "cell_type": "code",
   "execution_count": 2,
   "metadata": {
    "collapsed": true
   },
   "outputs": [],
   "source": [
    "#載入訓練好的模組\n",
    "model = gensim.models.Word2Vec.load(\"ptt.text.model\")"
   ]
  },
  {
   "cell_type": "code",
   "execution_count": 3,
   "metadata": {
    "collapsed": false
   },
   "outputs": [
    {
     "data": {
      "text/plain": [
       "[(u'\\u590f\\u666e', 0.6331065893173218),\n",
       " (u'\\u6709\\u9d3b\\u6d77', 0.5752442479133606),\n",
       " (u'\\u7531\\u9d3b\\u6d77', 0.5686883926391602),\n",
       " (u'\\u806f\\u767c\\u79d1', 0.5569756627082825),\n",
       " (u'\\u5ee0\\u9d3b\\u6d77', 0.5530534982681274),\n",
       " (u'\\u53f0\\u7a4d\\u96fb', 0.5453139543533325),\n",
       " (u'\\u806f\\u96fb', 0.5433270931243896),\n",
       " (u'\\u77fd\\u54c1', 0.5401138067245483),\n",
       " (u'\\u53f0\\u5851', 0.5249202847480774),\n",
       " (u'\\u5c55\\u8a0a', 0.5157195925712585)]"
      ]
     },
     "execution_count": 3,
     "metadata": {},
     "output_type": "execute_result"
    }
   ],
   "source": [
    "model.most_similar(u\"鴻海\")   "
   ]
  },
  {
   "cell_type": "code",
   "execution_count": 6,
   "metadata": {
    "collapsed": false
   },
   "outputs": [
    {
     "data": {
      "text/plain": [
       "[(u'2308', 0.711961030960083),\n",
       " (u'2311', 0.706597089767456),\n",
       " (u'3008', 0.693135678768158),\n",
       " (u'2357', 0.6893622875213623),\n",
       " (u'2330', 0.6766431331634521),\n",
       " (u'2474', 0.6684465408325195),\n",
       " (u'4938', 0.6655042171478271),\n",
       " (u'3687', 0.6649683117866516),\n",
       " (u'3658', 0.6626743674278259),\n",
       " (u'\\u53f0\\u9054\\u96fb', 0.6548022627830505)]"
      ]
     },
     "execution_count": 6,
     "metadata": {},
     "output_type": "execute_result"
    }
   ],
   "source": [
    "model.most_similar(\"2317\")  "
   ]
  },
  {
   "cell_type": "code",
   "execution_count": 5,
   "metadata": {
    "collapsed": false
   },
   "outputs": [
    {
     "data": {
      "text/plain": [
       "[(u'\\u53f0\\u7a4d', 0.6437692642211914),\n",
       " (u'\\u806f\\u767c\\u79d1', 0.6309047937393188),\n",
       " (u'\\u6676\\u5713', 0.5756344795227051),\n",
       " (u'\\u7a4d\\u96fb', 0.5727113485336304),\n",
       " (u'\\u806f\\u96fb', 0.5708448886871338),\n",
       " (u'\\u5927\\u7acb\\u5149', 0.5665115714073181),\n",
       " (u'2330', 0.5529037117958069),\n",
       " (u'\\u9d3b\\u6d77', 0.5453139543533325),\n",
       " (u'\\u53ef\\u6210', 0.5437755584716797),\n",
       " (u'TSMC', 0.5360747575759888)]"
      ]
     },
     "execution_count": 5,
     "metadata": {},
     "output_type": "execute_result"
    }
   ],
   "source": [
    "model.most_similar(u\"台積電\")"
   ]
  },
  {
   "cell_type": "code",
   "execution_count": 7,
   "metadata": {
    "collapsed": false
   },
   "outputs": [
    {
     "data": {
      "text/plain": [
       "[(u'\\u5927\\u7acb', 0.7136236429214478),\n",
       " (u'\\u6f22\\u5fae\\u79d1', 0.7041756510734558),\n",
       " (u'\\u80a1\\u540e', 0.6672146916389465),\n",
       " (u'3008', 0.6601953506469727),\n",
       " (u'\\u80a1\\u738b', 0.6597743034362793),\n",
       " (u'\\u53ef\\u6210', 0.6555949449539185),\n",
       " (u'\\u806f\\u767c\\u79d1', 0.5698084235191345),\n",
       " (u'\\u53f0\\u7a4d\\u96fb', 0.5665115714073181),\n",
       " (u'\\u5916\\u8cc7\\u5708', 0.562559962272644),\n",
       " (u'\\u5112\\u9d3b', 0.5493876934051514)]"
      ]
     },
     "execution_count": 7,
     "metadata": {},
     "output_type": "execute_result"
    }
   ],
   "source": [
    "model.most_similar(u\"大立光\")"
   ]
  },
  {
   "cell_type": "code",
   "execution_count": 48,
   "metadata": {
    "collapsed": false
   },
   "outputs": [
    {
     "name": "stdout",
     "output_type": "stream",
     "text": [
      "下跌 0.838296890259\n",
      "下挫 0.801064014435\n",
      "上揚 0.788440346718\n",
      "大漲 0.739798486233\n",
      "回落 0.732756376266\n",
      "大跌 0.717170357704\n",
      "飆升 0.710103094578\n",
      "走跌 0.700612783432\n",
      "飆漲 0.69513720274\n",
      "重挫 0.689215779305\n",
      "小漲 0.683324337006\n",
      "暴漲 0.682125926018\n",
      "勁揚 0.680278718472\n",
      "崩跌 0.674782037735\n",
      "跌勢 0.669539809227\n"
     ]
    }
   ],
   "source": [
    "#跟這個詞最相似的\n",
    "for e in model.most_similar(u'上漲',topn=15):print e[0],e[1]"
   ]
  },
  {
   "cell_type": "code",
   "execution_count": 13,
   "metadata": {
    "collapsed": false
   },
   "outputs": [
    {
     "data": {
      "text/plain": [
       "0.099917285704619677"
      ]
     },
     "execution_count": 13,
     "metadata": {},
     "output_type": "execute_result"
    }
   ],
   "source": [
    "model.similarity(u'上漲', u'台積電')"
   ]
  },
  {
   "cell_type": "code",
   "execution_count": 32,
   "metadata": {
    "collapsed": false
   },
   "outputs": [
    {
     "name": "stdout",
     "output_type": "stream",
     "text": [
      "台積 0.677682042122\n",
      "郭台銘 0.636798024178\n",
      "劉德音 0.635734558105\n",
      "何麗梅 0.610232591629\n",
      "聯發科 0.599907636642\n"
     ]
    }
   ],
   "source": [
    "#與這些詞的組合\n",
    "result = model.most_similar(u\"台積電 張忠謀\".split(\" \"), topn=5)\n",
    "for e in result:print e[0],e[1]"
   ]
  },
  {
   "cell_type": "code",
   "execution_count": 56,
   "metadata": {
    "collapsed": false
   },
   "outputs": [
    {
     "name": "stdout",
     "output_type": "stream",
     "text": [
      "下挫 0.626419484615\n",
      "下跌 0.621796488762\n",
      "上揚 0.613141953945\n",
      "低開 0.605901479721\n",
      "收跌 0.605251133442\n"
     ]
    }
   ],
   "source": [
    "#2330之於台積電 像是鴻海之於2317\n",
    "result = model.most_similar(positive=u\"2330 上漲\".split(\" \"), negative=[u\"台積電\"],topn=5)\n",
    "for e in result:print e[0],e[1]"
   ]
  },
  {
   "cell_type": "code",
   "execution_count": 47,
   "metadata": {
    "collapsed": false
   },
   "outputs": [
    {
     "name": "stdout",
     "output_type": "stream",
     "text": [
      "鴻海\n"
     ]
    }
   ],
   "source": [
    "#不合群的\n",
    "doesnt_match= model.doesnt_match(u\"台積電 大立光 鴻海\".split())\n",
    "print doesnt_match"
   ]
  }
 ],
 "metadata": {
  "kernelspec": {
   "display_name": "Python [default]",
   "language": "python",
   "name": "python2"
  },
  "language_info": {
   "codemirror_mode": {
    "name": "ipython",
    "version": 2
   },
   "file_extension": ".py",
   "mimetype": "text/x-python",
   "name": "python",
   "nbconvert_exporter": "python",
   "pygments_lexer": "ipython2",
   "version": "2.7.12"
  }
 },
 "nbformat": 4,
 "nbformat_minor": 1
}
